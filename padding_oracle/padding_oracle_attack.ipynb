{
 "cells": [
  {
   "cell_type": "markdown",
   "metadata": {
    "colab_type": "text",
    "id": "fmcfcXozUZH0"
   },
   "source": [
    "<h1>CBC Padding Oracle Attack</h1>\n",
    "\n",
    "v1.0: Ryan Lehmkuhl, Ben Hoberman\n",
    "\n",
    "v2.0: Ben Hoberman"
   ]
  },
  {
   "cell_type": "markdown",
   "metadata": {
    "colab_type": "text",
    "id": "hIpYGDw9UZH3"
   },
   "source": [
    "Run the following block to install packages needed for this notebook:"
   ]
  },
  {
   "cell_type": "code",
   "execution_count": 1,
   "metadata": {
    "colab": {},
    "colab_type": "code",
    "id": "gLFSw7lBUZH6"
   },
   "outputs": [
    {
     "name": "stdout",
     "output_type": "stream",
     "text": [
      "Defaulting to user installation because normal site-packages is not writeable\n",
      "Requirement already satisfied: cryptography in /usr/lib/python3.8/site-packages (3.0)\n",
      "Collecting flask\n",
      "  Downloading Flask-1.1.2-py2.py3-none-any.whl (94 kB)\n",
      "\u001b[K     |████████████████████████████████| 94 kB 1.6 MB/s eta 0:00:011\n",
      "\u001b[?25hRequirement already satisfied: requests in /usr/lib/python3.8/site-packages (2.24.0)\n",
      "Requirement already satisfied: six>=1.4.1 in /usr/lib/python3.8/site-packages (from cryptography) (1.15.0)\n",
      "Requirement already satisfied: cffi!=1.11.3,>=1.8 in /usr/lib/python3.8/site-packages (from cryptography) (1.14.1)\n",
      "Requirement already satisfied: click>=5.1 in /usr/lib/python3.8/site-packages (from flask) (7.1.2)\n",
      "Collecting itsdangerous>=0.24\n",
      "  Downloading itsdangerous-1.1.0-py2.py3-none-any.whl (16 kB)\n",
      "Collecting Werkzeug>=0.15\n",
      "  Downloading Werkzeug-1.0.1-py2.py3-none-any.whl (298 kB)\n",
      "\u001b[K     |████████████████████████████████| 298 kB 3.7 MB/s eta 0:00:01\n",
      "\u001b[?25hRequirement already satisfied: Jinja2>=2.10.1 in /usr/lib/python3.8/site-packages (from flask) (2.10.3)\n",
      "Requirement already satisfied: chardet>=3.0.2 in /usr/lib/python3.8/site-packages (from requests) (3.0.4)\n",
      "Requirement already satisfied: idna>=2.5 in /usr/lib/python3.8/site-packages (from requests) (2.10)\n",
      "Requirement already satisfied: urllib3>=1.21.1 in /usr/lib/python3.8/site-packages (from requests) (1.25.10)\n",
      "Requirement already satisfied: pycparser in /usr/lib/python3.8/site-packages (from cffi!=1.11.3,>=1.8->cryptography) (2.20)\n",
      "Requirement already satisfied: MarkupSafe>=0.23 in /usr/lib/python3.8/site-packages (from Jinja2>=2.10.1->flask) (1.1.1)\n",
      "Installing collected packages: itsdangerous, Werkzeug, flask\n",
      "Successfully installed Werkzeug-1.0.1 flask-1.1.2 itsdangerous-1.1.0\n",
      "Note: you may need to restart the kernel to use updated packages.\n"
     ]
    }
   ],
   "source": [
    "%pip install cryptography flask requests"
   ]
  },
  {
   "cell_type": "code",
   "execution_count": 2,
   "metadata": {
    "colab": {},
    "colab_type": "code",
    "id": "4wrczNz-UZIN"
   },
   "outputs": [],
   "source": [
    "import base64\n",
    "import os\n",
    "from IPython.display import clear_output\n",
    "from cryptography.hazmat.backends import default_backend\n",
    "from cryptography.hazmat.primitives.ciphers import Cipher\n",
    "from cryptography.hazmat.primitives.ciphers.algorithms import AES\n",
    "from cryptography.hazmat.primitives.ciphers.modes import ECB\n",
    "from requests.adapters import HTTPAdapter\n",
    "from requests import Session\n",
    "from tests import test1, test2, test3, test4, test5, test6, test7, test8\n",
    "from helpers import PKCS7_pad, PKCS7_unpad, valid_pad, permute\n",
    "%load_ext autoreload\n",
    "%autoreload 2"
   ]
  },
  {
   "cell_type": "markdown",
   "metadata": {
    "colab_type": "text",
    "id": "gco5GU64UZIa"
   },
   "source": [
    "# Question 1: Introduction\n",
    "\n",
    "Trying to implement crypto schemes yourself can be very dangerous. In the words of Runa Sandvi, The New York Times senior director of information security, \"Asking why you should not roll your own crypto is a bit like asking why you should not design your own aircraft engine.\"\n",
    "\n",
    "While many of the concepts we've reviewed in class may seem intuitive and simple, even the subtlest leakage of information can completely compromise any hope for confidentiality.\n",
    "\n",
    "We will demonstrate this by completely decrypting a message encrypted with AES-CBC using a **padding oracle attack**.\n"
   ]
  },
  {
   "cell_type": "markdown",
   "metadata": {
    "colab_type": "text",
    "id": "XBjxpP3aUZId"
   },
   "source": [
    "## Padding\n",
    "\n",
    "First off, what is padding and why do we need it? Recall that a block cipher such as AES encrypts messages of a *fixed size*. When the plaintext is larger than the blocksize, we use a block chaining mode, such as CBC. However, what do we do when the message isn't a multiple of the block size? For this, we have to pad the message. \n",
    "\n",
    "Padding is simply adding some form of junk to the end of a message in order to fit it to the block size. For example, suppose our our plaintext was the following string:\n",
    "```\n",
    "Message   |N  e   e  d  _  p  a   d  d   i  n  g  !   \\0 ?  ? \n",
    "Index     |0  1   2  3  4  5  6   7  8   9  10 11 12  13 14 15\n",
    "Hex       |4e 65  65 64 20 70 61  64 64  69 6e 67 21  00 ?? ??\n",
    "```\n",
    "\n",
    "Providing this as input to AES with blocksize of 16 bytes will throw an error. Instead we need to replace the suffix of the message (represented with question marks) with some form of padding. Note that we must choose our padding such that removing it doesn't *accidently change our message*. For instance, if we chose to simply append zeroes, we would erase the null terminator of the string during unpadding.\n",
    "\n",
    "The most common padding method for symettric ciphers is PKCS#7 (PKCS stands for Public Key Cryptography Standard). It works by appending the number of padding bytes to the end of the message. So our message from before would become:\n",
    "```\n",
    "Message   |N  e   e  d  _  p  a   d  d   i  n  g  !   \\0 0x02  0x02 \n",
    "Index     |0  1   2  3  4  5  6   7  8   9  10 11 12  13 14    15\n",
    "Hex       |4e 65  65 64 20 70 61  64 64  69 6e 67 21  00 02    02\n",
    "```\n",
    "\n",
    "Note that in if the message is a multiple of the block size, another block of all 16s (```0x10```) is added.\n",
    "\n",
    "**Fill-in and run the following block to get a feel for how this works.**"
   ]
  },
  {
   "cell_type": "code",
   "execution_count": 3,
   "metadata": {
    "colab": {},
    "colab_type": "code",
    "id": "ewekVTpYUZIf"
   },
   "outputs": [
    {
     "name": "stdout",
     "output_type": "stream",
     "text": [
      "Plaintext w/o padding: ['oski is terrifyi', 'ng']\n",
      "Length: 18\n",
      "Message with padding: ['oski is terrifyi', 'ng\\x0e\\x0e\\x0e\\x0e\\x0e\\x0e\\x0e\\x0e\\x0e\\x0e\\x0e\\x0e\\x0e\\x0e']\n",
      "Length: 32\n",
      "\n",
      "Hex of padded message:\n",
      "Block 0:  0x6f 0x73 0x6b 0x69 0x20 0x69 0x73 0x20 0x74 0x65 0x72 0x72 0x69 0x66 0x79 0x69\n",
      "Block 1:  0x6e 0x67 0x0e 0x0e 0x0e 0x0e 0x0e 0x0e 0x0e 0x0e 0x0e 0x0e 0x0e 0x0e 0x0e 0x0e\n"
     ]
    }
   ],
   "source": [
    "### TODO: Type in a message here to see how it's padded correctly\n",
    "msg = b\"oski is terrifying\"\n",
    "\n",
    "# Pads the message and splits it into blocks\n",
    "padded_msg = PKCS7_pad(msg)\n",
    "plaintext = [msg[i:i + 16].decode() for i in range(0, len(msg), 16)]\n",
    "padded_plaintext = [padded_msg[i:i + 16] for i in range(0, len(padded_msg), 16)]\n",
    "\n",
    "# Prints everything - decodes the blocks of byte objects to strings\n",
    "print(f\"Plaintext w/o padding: {plaintext}\")\n",
    "print(f\"Length: {len(msg)}\")\n",
    "print(f\"Message with padding: {[x.decode() for x in padded_plaintext]}\")\n",
    "print(f\"Length: {len(padded_msg)}\\n\")\n",
    "print(f\"Hex of padded message:\")\n",
    "for i in range(len(padded_plaintext)):\n",
    "    print(f\"Block {i}: \", \" \".join('0x{:02x}'.format(c) for c in padded_plaintext[i]))"
   ]
  },
  {
   "cell_type": "markdown",
   "metadata": {
    "colab_type": "text",
    "id": "P-lAvHUpUZIp"
   },
   "source": [
    "## Padding Oracles\n",
    "We now know why padding is important and how to implement it, but how can a faulty implementation break our crypto system? For this, we introduce the concept of a **padding oracle**.\n",
    "\n",
    "In cryptography, an oracle is a queryable 'black box' (a function with unknown inner-workings) which provides some piece of information which otherwise would not be available. For example, when we studied the IND-CPA game, the challenger acted as an **encryption oracle** since the adversary could query it on a given message and receive back a ciphertext without knowing how the encryption was done (ie. which key was used). \n",
    "\n",
    "A padding oracle takes as input, some ciphertext `c`, and returns `True` if the (decrypted) ciphertext is properly padded and `False` otherwise. We've defined a function, `valid_pad` which acts as such a padding oracle for PKCS7.\n",
    "\n",
    "For the following two parts, you don't need to worry at all about a padding oracle or any cryptography &mdash; you're just working with plaintext, and the point is for you to get just a little bit of a sense for padding in general."
   ]
  },
  {
   "cell_type": "markdown",
   "metadata": {
    "colab_type": "text",
    "id": "pseldJtfMC1w"
   },
   "source": [
    "## 1.1\n",
    "\n",
    "**Below, input a last byte for `padded_msg` which will cause `valid_pad` to return `False`.**"
   ]
  },
  {
   "cell_type": "code",
   "execution_count": 6,
   "metadata": {
    "colab": {},
    "colab_type": "code",
    "id": "qozdfg83UZIq"
   },
   "outputs": [
    {
     "name": "stdout",
     "output_type": "stream",
     "text": [
      "All tests passed!\n"
     ]
    }
   ],
   "source": [
    "msg = b\"oski is terrifying\" # do not change this\n",
    "\n",
    "### TODO: Choose a last byte (written as a number) that makes the padding invalid\n",
    "invalid_last_byte = 12 ### YOUR CODE HERE ###\n",
    "\n",
    "# Autograder\n",
    "test1(invalid_last_byte)"
   ]
  },
  {
   "cell_type": "markdown",
   "metadata": {
    "colab_type": "text",
    "id": "LdengaDGUZI0"
   },
   "source": [
    "## 1.2\n",
    "\n",
    "**Next, give *two* different last bytes for `padded_msg` which will cause `valid_pad` to return `True`.**"
   ]
  },
  {
   "cell_type": "code",
   "execution_count": 7,
   "metadata": {
    "colab": {},
    "colab_type": "code",
    "id": "LLxMm5MkUZI2"
   },
   "outputs": [
    {
     "name": "stdout",
     "output_type": "stream",
     "text": [
      "All tests passed!\n"
     ]
    }
   ],
   "source": [
    "msg = b\"oski is terrifying\" # do not change this\n",
    "\n",
    "### TODO: Choose two different last bytes (written as a number) that makes the padding valid\n",
    "valid_last_byte_1 = 1 ### YOUR CODE HERE ###\n",
    "valid_last_byte_2 = 14 ### YOUR CODE HERE ###\n",
    "\n",
    "# Autograder\n",
    "test2(valid_last_byte_1, valid_last_byte_2)"
   ]
  },
  {
   "cell_type": "markdown",
   "metadata": {
    "colab_type": "text",
    "id": "joOyzPoQUZJA"
   },
   "source": [
    "Many real systems naturally act as padding oracles. Consider a web server which uses AES-CBC to encrypt communications between it's clients (early versions of TLS did this). If a client sends a message with invalid padding, the exception might cause the web server to respond with something like:\n",
    "<center>\n",
    "<img src=\"https://i.imgur.com/IFhVUbJ.png\" align=\"center\" style=\"height:400px\" />\n",
    "</center>"
   ]
  },
  {
   "cell_type": "markdown",
   "metadata": {
    "colab_type": "text",
    "id": "a4gtFzV4UZJC"
   },
   "source": [
    "Why is this bad? At a strictly fundamental level, the resulting error leaks information about the plaintext which should never be allowed in any cryptographical system. But come on... detecting incorrect padding can't be that bad? Right? **WRONG.** This simple leakage ends up completely destroying any hope for confidentiality with the encryption scheme. To see why let's review how the CBC block chaining mode works."
   ]
  },
  {
   "cell_type": "markdown",
   "metadata": {
    "colab_type": "text",
    "id": "TYLVaKHJUZJD"
   },
   "source": [
    "## CBC\n",
    "Decryption in CBC mode is as follows:\n",
    "<center>\n",
    "<img src=\"https://i.imgur.com/CRUh4nu.png\" align=\"center\" style=\"height:300px\" />\n",
    "</center>\n",
    "\n",
    "In particular, we are interested in the decryption of a single block - especially the temporary block state that occurs before the XOR:\n",
    "<center>\n",
    "<img src=\"https://i.imgur.com/ufUzmaH.png\" align=\"center\" style=\"height:250px\" />\n",
    "</center>"
   ]
  },
  {
   "cell_type": "markdown",
   "metadata": {
    "colab_type": "text",
    "id": "EBe1r5qAUZJF"
   },
   "source": [
    "# Question 2: Formulating the Attack\n",
    "\n",
    "Using the previous image as a reference, denote the block cipher decryption function as $D(\\cdot)$, the last ciphertext block as $C_{n}$, the preceding ciphertext block as $C_{n-1}$, the resulting plaintext block as $P_n$, and the last temporary state block as $T_n$."
   ]
  },
  {
   "cell_type": "markdown",
   "metadata": {
    "colab_type": "text",
    "id": "aL7ciHceKX99"
   },
   "source": [
    "## 2.1\n",
    "\n",
    "**Express $P_n$ and $T_n$ in terms of $D$, $C_n$, and $C_{n-1}$.**\n",
    "\n",
    "*Note: `\\oplus` lets you write $\\oplus$ in LaTeX*"
   ]
  },
  {
   "cell_type": "markdown",
   "metadata": {
    "colab_type": "text",
    "id": "O-QZqd_hUZJG"
   },
   "source": [
    "**<span style = \"color: red\">(YOUR ANSWER HERE)</span>**"
   ]
  },
  {
   "cell_type": "markdown",
   "metadata": {
    "colab_type": "text",
    "collapsed": true,
    "id": "ovjV3NHfUZJH"
   },
   "source": [
    "## 2.2\n",
    "\n",
    "**Express $P_n$ in terms of $C_{n-1}$ and $T_n$.**"
   ]
  },
  {
   "cell_type": "markdown",
   "metadata": {
    "colab_type": "text",
    "collapsed": true,
    "id": "64zB1hbnUZJI"
   },
   "source": [
    "**<span style = \"color: red\">(YOUR ANSWER HERE)</span>**"
   ]
  },
  {
   "cell_type": "markdown",
   "metadata": {
    "colab_type": "text",
    "id": "J_xQfD4kUZJK"
   },
   "source": [
    "## 2.3\n",
    "\n",
    "Now, we're going to start building towards a full-fledged attack based on this decryption process.\n",
    "\n",
    "**First, implement the expression you found for $P_n$ in the code block below.**"
   ]
  },
  {
   "cell_type": "code",
   "execution_count": null,
   "metadata": {
    "colab": {},
    "colab_type": "code",
    "id": "Cv2zkb3EUZJL"
   },
   "outputs": [],
   "source": [
    "from helpers import xor_block\n",
    "# xor_block(block1, block2) automatically xors two blocks of bytes together\n",
    "\n",
    "def P_from_DCC(D, C, C_prev):\n",
    "    \"\"\"\n",
    "    Compute P_n from D(.), C_n, and C_{n-1}.\n",
    "\n",
    "    D:         a block cipher decryption function.\n",
    "    C:         C_n, a 16-byte block of text\n",
    "    C_prev:    C_{n-1}, the 16-byte ciphertext preceding C\n",
    "    \"\"\"\n",
    "    T = ... ### YOUR CODE HERE ###\n",
    "    P = ... ### YOUR CODE HERE ###\n",
    "    return P\n",
    "\n",
    "# Autograder\n",
    "test3(P_from_DCC)"
   ]
  },
  {
   "cell_type": "markdown",
   "metadata": {
    "colab_type": "text",
    "id": "g2ANyzONUZJS"
   },
   "source": [
    "Now, assume that you have intercepted some ciphertext $(IV, C_1, C_2, \\ldots, C_n)$ and have access to a padding oracle. You have complete freedom with what you send the padding oracle (ie. a subset of the ciphertext blocks or something completely different). Whatever you send, the padding oracle will decrypt it **using the original symmetric key** and truthfully report whether it is padded correctly.\n",
    "\n",
    "For now, ignore all of the blocks except for $C_n$. Let's say that we send the padding oracle the ciphertext $(C_{n-1}', C_n)$ where $C_{n-1}'$ is some carefully-chosen ciphertext. Decrypting this input will result in some $P_n'$ which can be expressed in terms of $C_{n-1}'$ and $T_n$ (as shown above). Our goal is to craft our $C_{n-1}'$ s.t. $P_n'$ has valid padding no matter what."
   ]
  },
  {
   "cell_type": "markdown",
   "metadata": {
    "colab_type": "text",
    "id": "KcmUX5IPUZJV"
   },
   "source": [
    "## 2.4.\n",
    "\n",
    "**In terms of $T_n[15]$, what must $C_{n-1}'[15]$ be to *guarantee* a correctly padded $P_n'$?**"
   ]
  },
  {
   "cell_type": "markdown",
   "metadata": {
    "colab_type": "text",
    "id": "cybAmw9jUZJV"
   },
   "source": [
    "**<span style = \"color: red\">(YOUR ANSWER HERE)</span>**"
   ]
  },
  {
   "cell_type": "markdown",
   "metadata": {
    "colab_type": "text",
    "id": "Z5Un_6t8UZJX"
   },
   "source": [
    "## 2.5\n",
    "\n",
    "**Implement your answer from part 2.4 in the following function to test it out.**"
   ]
  },
  {
   "cell_type": "code",
   "execution_count": null,
   "metadata": {
    "colab": {},
    "colab_type": "code",
    "id": "s_PdHCA4UZJZ"
   },
   "outputs": [],
   "source": [
    "def pad_correctly(T_byte):\n",
    "    \"\"\"\n",
    "    Computes C'_{n-1}[15] given T_n[15] which results\n",
    "    in a correctly padded P_n[15].\n",
    "    \n",
    "    T_byte: T_n[15]\n",
    "    \"\"\"\n",
    "    # Hint: ^ is XOR in Python.\n",
    "    return ... ### YOUR CODE HERE ###\n",
    "\n",
    "# Autograder\n",
    "test4(pad_correctly)"
   ]
  },
  {
   "cell_type": "markdown",
   "metadata": {
    "colab_type": "text",
    "id": "TX_84hocUZJf"
   },
   "source": [
    "## 2.6.\n",
    "\n",
    "Your answer to part 1.4 guarantees that the ciphertext is padded correctly regardless of the rest of $P_n'$, but it is also sometimes possible for a *different* value of $C'_{n-1}[15]$ to result in valid padding (depending on the rest of $P_n'$).\n",
    "\n",
    "**When does this different value result in valid padding?**"
   ]
  },
  {
   "cell_type": "markdown",
   "metadata": {
    "colab_type": "text",
    "id": "51U3GchXUZJh"
   },
   "source": [
    "**<span style = \"color: red\">(YOUR ANSWER HERE)</span>**"
   ]
  },
  {
   "cell_type": "markdown",
   "metadata": {
    "colab_type": "text",
    "id": "ejzd0bRwUZJi"
   },
   "source": [
    "## 2.7\n",
    "\n",
    "**Test your answer by filling out the function below.**\n",
    "\n",
    "Note that you will need to use your knowledge of the temporary state, which is not normally available."
   ]
  },
  {
   "cell_type": "code",
   "execution_count": null,
   "metadata": {
    "colab": {},
    "colab_type": "code",
    "id": "2mhxTfDMUZJm"
   },
   "outputs": [],
   "source": [
    "def pad_correctly_alt(T_byte, P_byte):\n",
    "    \"\"\"\n",
    "    Computes C'_{n-1}[15] given T_n[15] and P_n[15] which results\n",
    "    in a correctly padded P_n[15]. Should return a different byte\n",
    "    than your last answer!\n",
    "    \n",
    "    T_byte: T_n[15]\n",
    "    P_byte: P_n[15] - the last byte of the real message.\n",
    "    \"\"\"\n",
    "    return ... ### YOUR CODE HERE ###\n",
    "\n",
    "# Autograder\n",
    "test5(pad_correctly_alt)"
   ]
  },
  {
   "cell_type": "markdown",
   "metadata": {
    "colab_type": "text",
    "id": "1sWGVsykUZJu"
   },
   "source": [
    "## 2.8\n",
    "\n",
    "**Using what you've discovered so far, how might you leverage the padding oracle to learn these one or two possible values for $C_{n-1}'[15]$?**\n",
    "\n",
    "*Hint: a brute force attack that only needs to try a small number of options is very fast. 256 is very small.*"
   ]
  },
  {
   "cell_type": "markdown",
   "metadata": {
    "colab_type": "text",
    "id": "C6dqQ2frUZJv"
   },
   "source": [
    "**<span style = \"color: red\">(YOUR ANSWER HERE)</span>**"
   ]
  },
  {
   "cell_type": "markdown",
   "metadata": {
    "colab_type": "text",
    "id": "Qr8xgpPVUZJx"
   },
   "source": [
    "## 2.9\n",
    "\n",
    "If a particular byte has two potential values with correct padding, we need to figure out which one is which. In the function below, you're given the byte which *always* results in correct padding.\n",
    "\n",
    "**Fill in the function to calculate the corresponding byte of the plaintext.**"
   ]
  },
  {
   "cell_type": "code",
   "execution_count": null,
   "metadata": {
    "colab": {},
    "colab_type": "code",
    "id": "t0k0MrjUUZJ0"
   },
   "outputs": [],
   "source": [
    "def recover_byte(C_byte, C_prime_byte):\n",
    "    \"\"\"\n",
    "    Given the modified ciphertext C'_{n-1}[15] which resulted in\n",
    "    the padding always being correct, and the original ciphertext\n",
    "    C_{n-1}[15], return the last byte of the original plaintext P_n[15].\n",
    "    \n",
    "    C_byte: C_{n-1}[15] - the original last byte of the ciphertext\n",
    "    C_prime_byte: C'_{n-1}[15] - the modified last byte which resulted in correct padding all of the time\n",
    "    \"\"\"\n",
    "    return ... ### YOUR CODE HERE ###\n",
    "\n",
    "# Autograder --- make sure you've completed part 4 first! This test requires your implementation of pad_correctly.\n",
    "test6(recover_byte, pad_correctly)"
   ]
  },
  {
   "cell_type": "markdown",
   "metadata": {
    "colab_type": "text",
    "id": "LUKqfrLlUZJ5"
   },
   "source": [
    "## 2.10\n",
    "\n",
    "When running the attack you described in part 2.8, you will run into trouble if you have two candidates for a particular byte. If you got two possible values for $C_n'[15]$ that result in valid padding, **how can we modify $C_n'[14]$ to check which of these values is correct?** (In real life we won't know the message so we can't do what we did before)\n",
    "\n",
    "*Hint: There are over 200 values that work here*"
   ]
  },
  {
   "cell_type": "markdown",
   "metadata": {
    "colab_type": "text",
    "id": "BG_4yzt3UZJ6"
   },
   "source": [
    "**<span style = \"color: red\">(YOUR ANSWER HERE)</span>**"
   ]
  },
  {
   "cell_type": "markdown",
   "metadata": {
    "colab_type": "text",
    "id": "CcvR3YFSUZJ8"
   },
   "source": [
    "## 2.11\n",
    "\n",
    "**Fill in the function so that it always correctly finds the last byte of plaintext based on the last two blocks of ciphertext and a padding oracle.**"
   ]
  },
  {
   "cell_type": "code",
   "execution_count": null,
   "metadata": {
    "colab": {},
    "colab_type": "code",
    "id": "8h_A_nJ0UZJ9"
   },
   "outputs": [],
   "source": [
    "def solve_last_byte(C_prev, C, oracle):\n",
    "    \"\"\"\n",
    "    Returns the correct last byte of the original plaintext\n",
    "    P_n[15] given the previous the ciphertexts C_n, C_{n-1},\n",
    "    and a padding oracle\n",
    "    \n",
    "    C: current block (the one whose plaintext we're solving for) of the ciphertext (C_n)\n",
    "    C_prev: previous block of the cipher text (C_{n-1})\n",
    "    oracle: a function which returns whether (C_prev, C) are padded correctly\n",
    "    \"\"\"\n",
    "    for byte in ...: ### YOUR CODE HERE. What are the possible values for byte? ###\n",
    "        C_prev_prime = bytearray(C_prev)\n",
    "        C_prev_prime[15] = ... ### YOUR CODE HERE ###\n",
    "        if oracle(C_prev_prime, C):\n",
    "            C_prev_prime[14] = ... ### YOUR CODE HERE ###\n",
    "            if oracle(C_prev_prime, C):\n",
    "                return recover_byte(C_prev[15], C_prev_prime[15])\n",
    "            \n",
    "# Autograder\n",
    "test7(solve_last_byte)"
   ]
  },
  {
   "cell_type": "markdown",
   "metadata": {
    "colab_type": "text",
    "id": "0bJRF_HHUZKF"
   },
   "source": [
    "## 2.12\n",
    "\n",
    "**How could you extend the previous few steps to decode an entire block? An entire message?**"
   ]
  },
  {
   "cell_type": "markdown",
   "metadata": {
    "colab_type": "text",
    "id": "SUbHmxAsUZKH"
   },
   "source": [
    "**<span style = \"color: red\">(YOUR ANSWER HERE)</span>**"
   ]
  },
  {
   "cell_type": "markdown",
   "metadata": {
    "colab_type": "text",
    "id": "ipLhvCALUZKH"
   },
   "source": [
    "## 2.13\n",
    "\n",
    "Now, we can finally implement the full decryption.\n",
    "\n",
    "**Fill out the function below based on prior parts in order to successfully decrypt any CBC ciphertext block based on a padding oracle.**\n",
    "\n",
    "Remember that as you discover more of the message, the \"correct\" padding you need to enforce will change."
   ]
  },
  {
   "cell_type": "code",
   "execution_count": null,
   "metadata": {
    "colab": {},
    "colab_type": "code",
    "id": "FaN_NuzkUZKJ"
   },
   "outputs": [],
   "source": [
    "def decrypt_block(C_prev, C, oracle, display = False, tail = None):\n",
    "    \"\"\"\n",
    "    Recover plaintext P_n given ciphertext C_n, C_{n-1}, and a padding oracle.\n",
    "    Don't worry about the display or tail arguments -- they're for cool visualization later.\n",
    "\n",
    "    C: current block (the one we're solving for) of the ciphertext (C_i)\n",
    "    C_prev: last block of the cipher text (C_{i-1})\n",
    "    oracle: a function which returns whether (C_prev, C) are padded correctly\n",
    "    \"\"\"\n",
    "    correct_block = bytearray(16) # Reconstructed plaintext (P from previous parts)\n",
    "    temp_block = bytearray(16) # Reconstructed temporary state (T from previous parts)\n",
    "    \n",
    "    # Iterate over the block from end to beginning\n",
    "    for i in reversed(range(16)):\n",
    "        # Set the padding byte that the known bytes should be to guarantee correct padding\n",
    "        padding_byte = ... ### YOUR CODE HERE. ###\n",
    "        \n",
    "        for byte in ...: ### YOUR CODE HERE ###\n",
    "            C_prev_prime = bytearray(C_prev)\n",
    "            C_prev_prime[i+1:] = xor_block(..., [padding_byte]*padding_byte) ### YOUR CODE HERE. \n",
    "                ### How do we set the already-known plaintext to a value of our choice? ###\n",
    "            \n",
    "            C_prev_prime[i] = ... ### YOUR CODE HERE ###\n",
    "            if oracle(C_prev_prime, C):\n",
    "                if i == 15: # Recall from previous parts that the last byte can have two possible values.\n",
    "                    C_prev_prime[i-1] = ... ### YOUR CODE HERE ###\n",
    "                    if not oracle(C_prev_prime, C):\n",
    "                        continue\n",
    "                        \n",
    "                # We can now deduce the ith byte.\n",
    "                # As you pad farther and farther back, you'll need to slightly tweak how you recover\n",
    "                # the correct byte. Think back to how you derived it for the last byte; the process\n",
    "                # will be very similar\n",
    "                correct_block[i] = ... ### YOUR CODE HERE ###\n",
    "                temp_block[i] = ... ### YOUR CODE HERE ###\n",
    "                \n",
    "                # Visualization code -- don't worry about it\n",
    "                if display:\n",
    "                    progress = correct_block.replace(b'\\x00', b' ')\n",
    "                    clear_output(wait=True)\n",
    "                    if tail is not None:\n",
    "                        progress = progress + tail\n",
    "                    print(f'Recovered so far: {progress}')\n",
    "                    \n",
    "                break\n",
    "    return correct_block\n",
    "\n",
    "# Autograder\n",
    "test8(decrypt_block)"
   ]
  },
  {
   "cell_type": "markdown",
   "metadata": {
    "colab_type": "text",
    "id": "R069S3XtUZKR"
   },
   "source": [
    "# Question 3: Implementing the Attack\n",
    "Alice has connected her home IoT devices to a central web application. This allows her to control every aspect of her home from anywhere with an Internet connection. Alice read somewhere that she should encrypt her communications non-deterministically in order to negate the threat of replay attacks, so she opted to use AES-CBC + PKCS#7 padding with a shared symmetric key.\n",
    "\n",
    "You (Eve), discover the exposed API to Alice's web application and notice that the application caches the most recently received command. You also find that the web application will return a 500 error if sent an invalid command. Using the web application's API, can you decrypt the cached ciphertext and discover Alice's command?"
   ]
  },
  {
   "cell_type": "markdown",
   "metadata": {
    "colab_type": "text",
    "id": "cta0HFBJUZKR"
   },
   "source": [
    "## Setup\n",
    "\n",
    "We have provided a few things for you:\n",
    "* Alice's web application\n",
    "* A `Client` class to interface with the web application"
   ]
  },
  {
   "cell_type": "markdown",
   "metadata": {
    "colab_type": "text",
    "id": "Brv8yV77UZKT"
   },
   "source": [
    "**If you're running the notebook locally, open a new terminal window and run:**\n",
    "```\n",
    "python iot.py\n",
    "```\n",
    "**If you're running the notebook on DataHub/Collab, execute the block below:**"
   ]
  },
  {
   "cell_type": "code",
   "execution_count": null,
   "metadata": {
    "colab": {},
    "colab_type": "code",
    "id": "0SdcfnDDUZKU"
   },
   "outputs": [],
   "source": [
    "from iot import app\n",
    "import threading\n",
    "threading.Thread(target=app.run, kwargs={'host':'0.0.0.0','port':12000}).start() "
   ]
  },
  {
   "cell_type": "markdown",
   "metadata": {
    "colab_type": "text",
    "id": "AX2Mzuh5UZKa"
   },
   "source": [
    "**To define the `Client` class, run the block below:**"
   ]
  },
  {
   "cell_type": "code",
   "execution_count": null,
   "metadata": {
    "colab": {},
    "colab_type": "code",
    "id": "-GrPI8TKUZKb"
   },
   "outputs": [],
   "source": [
    "LOCAL_URL = 'http://127.0.0.1:12000/api/'\n",
    "\n",
    "class Client:\n",
    "    def __init__(self):\n",
    "        # Start a new HTTP Session\n",
    "        self.session = Session()\n",
    "        self.session.mount('http://', HTTPAdapter())\n",
    "\n",
    "        # Get the cached command\n",
    "        url = LOCAL_URL + 'cache'\n",
    "        response = self.session.get(url)\n",
    "        content = response.json()\n",
    "        if response.status_code in [400, 401, 403]:\n",
    "            print('/cache API Error: ' + str(status_code))\n",
    "        elif response.status_code != 200:\n",
    "            print('/cache API Error: ' + str(status_code))\n",
    "\n",
    "        # Decode the ciphertext\n",
    "        self.iv = base64.b64decode(bytes(content['iv'], 'utf8'))\n",
    "        self.ciphertext = base64.b64decode(bytes(content['ciphertext'], 'utf8'))\n",
    "\n",
    "    def execute(self, iv, ciphertext):\n",
    "        '''Sends ciphertext to web application. Return True if command is\n",
    "        executed, False if the application returns an error'''\n",
    "        if type(iv) == type(bytearray()):\n",
    "            iv = bytes(iv)\n",
    "        if type(ciphertext) == type(bytearray()):\n",
    "            ciphertext = bytes(ciphertext)\n",
    "        data = {\n",
    "            'iv': base64.b64encode(iv), \n",
    "            'ciphertext': base64.b64encode(ciphertext)\n",
    "            }\n",
    "        response = self.session.post(LOCAL_URL + 'execute',data=data)\n",
    "        status_code = response.status_code\n",
    "        content = response.json()\n",
    "        return content['success']"
   ]
  },
  {
   "cell_type": "markdown",
   "metadata": {
    "colab_type": "text",
    "id": "x3mTTW69GHj2"
   },
   "source": [
    "Now, we can apply our attack! **First, we need to formulate our oracle in terms of the `client`. To do so, run the code block below.**"
   ]
  },
  {
   "cell_type": "code",
   "execution_count": null,
   "metadata": {
    "colab": {},
    "colab_type": "code",
    "id": "92xs48RyGHj4"
   },
   "outputs": [],
   "source": [
    "def make_network_oracle(client):\n",
    "    def oracle(C_last, C):\n",
    "        return client.execute(C_last, C)\n",
    "    return oracle"
   ]
  },
  {
   "cell_type": "markdown",
   "metadata": {
    "colab_type": "text",
    "id": "Kg8RJiKXUZKi"
   },
   "source": [
    "## 3.1\n",
    "\n",
    "Now we can finally put it all together and execute our attack against a real server. We can directly use your work from previous parts to fill out the `decrypt` function below!"
   ]
  },
  {
   "cell_type": "code",
   "execution_count": null,
   "metadata": {
    "colab": {},
    "colab_type": "code",
    "id": "jiMiVK5VUZKl"
   },
   "outputs": [],
   "source": [
    "# No code you have to write in here :)\n",
    "def decrypt(client):\n",
    "    # Make the ciphertext mutable by casting to bytearray instead of bytes\n",
    "    iv = bytearray(client.iv)\n",
    "    ciphertext = bytearray(client.ciphertext)\n",
    "    \n",
    "    # Split the ciphertext into blocks\n",
    "    blocks = [iv] + [ciphertext[i:i + 16] for i in range(0, len(ciphertext), 16)]\n",
    "    # This stores our recovered plaintext\n",
    "    plaintext = [bytearray(16) for _ in range(len(blocks))]\n",
    "    oracle = make_network_oracle(client)\n",
    "\n",
    "    # Recover each block and byte in reverse order\n",
    "    for i in reversed(range(1, len(blocks))):\n",
    "        C_last = blocks[i - 1]\n",
    "        C = blocks[i]\n",
    "        plaintext[i] = decrypt_block(C_last, C, oracle, True, b''.join(plaintext[i+1:]))\n",
    "    \n",
    "    return b''.join(plaintext[1:]).decode()"
   ]
  },
  {
   "cell_type": "markdown",
   "metadata": {
    "colab_type": "text",
    "id": "ABnWgOWGUZKs"
   },
   "source": [
    "Run your attack:"
   ]
  },
  {
   "cell_type": "code",
   "execution_count": null,
   "metadata": {
    "colab": {},
    "colab_type": "code",
    "id": "oXcIfB53UZKt"
   },
   "outputs": [],
   "source": [
    "print(f\"\\n\\nThe command is: {decrypt(Client())}\")"
   ]
  },
  {
   "cell_type": "markdown",
   "metadata": {
    "colab_type": "text",
    "id": "w-Ufy-lCOegB"
   },
   "source": [
    "What is the decrypted message?"
   ]
  },
  {
   "cell_type": "markdown",
   "metadata": {
    "colab_type": "text",
    "id": "3PLSKV8XUZKx"
   },
   "source": [
    "**<span style = \"color: red\">(YOUR ANSWER HERE)</span>**"
   ]
  },
  {
   "cell_type": "markdown",
   "metadata": {
    "colab_type": "text",
    "collapsed": true,
    "id": "GVRqE5ahUZKz"
   },
   "source": [
    "# Question 4: History and Defenses\n",
    "\n",
    "The padding oracle that you've developed in this lab has been used in plenty of real-world attacks. The attack was first discovered (publicly) in 2002. Since 2002 is well within the era of the internet, you can find the paper published by the exploit's original authors [here](https://www.iacr.org/cryptodb/archive/2002/EUROCRYPT/2850/2850.pdf). Exploits were quickly engineered against all sorts of servers to great success.\n",
    "\n",
    "Fixes for this original attack \"fixed\" the vulnerability by simply stopping the server from directly telling users whether a message was padded correctly or not. But later attacks, in particular [lucky thirteen](https://arstechnica.com/information-technology/2013/02/lucky-thirteen-attack-snarfs-cookies-protected-by-ssl-encryption/), utilized the fact that a *timing* side-channel could let an attacker statistically infer when a padding was set correctly even without the server telling them explicitly. This illustrates how hard it is to avoid side-channel attacks and why we always prefer to use schemes which fail as safely as possible.\n",
    "\n",
    "For the most part, CBC padding oracle attacks have been patched, but there are notable circumstances in which they can still be used to great success. [Some attacks](https://en.wikipedia.org/wiki/POODLE) use the fact that users can request to use older versions of protocols for backwards compatibilty, which can directly enable old attacks to come back to life. And since implementing cryptography is *hard*, patches and fixes can result in the resurrection of previously-patched vulnerabilities. Check out [this](https://cve.mitre.org/cgi-bin/cvename.cgi?name=CVE-2016-2107) CVE, an ironic example of how a patch for lucky thirteen actually *enabled* a padding oracle attack.\n",
    "\n",
    "Now, let's explore a possible defense. Sending just a message encrypted with CBC mode guarantees us confidentiality if we use a secure block cipher, which we generally assume AES is. The lack of authentication and integrity checking mean that we as attackers are allowed to freely tamper with messages in order to decrypt them. It stands to reason that added some authentication and integrity checks would prevent us from successfully modifying messages for the server's examination. For simplicity, let's consider just two possible methods of achieving this: MAC-then-encrypt and encrypt-then-MAC, both with a secure MAC algorithm."
   ]
  },
  {
   "cell_type": "markdown",
   "metadata": {
    "colab_type": "text",
    "id": "UEyHdDAGOovy"
   },
   "source": [
    "## 4.1\n",
    "\n",
    "Does MAC-then-encrypt prevent users from exploiting our padding oracle attack? If yes, explain why. If not, explain how to modify the attack so that it still works."
   ]
  },
  {
   "cell_type": "markdown",
   "metadata": {
    "colab_type": "text",
    "id": "iOq-AEmQUZK0"
   },
   "source": [
    "**<span style = \"color: red\">(YOUR ANSWER HERE)</span>**"
   ]
  },
  {
   "cell_type": "markdown",
   "metadata": {
    "colab_type": "text",
    "id": "jR4laxAWUZK1"
   },
   "source": [
    "## 4.2\n",
    "\n",
    "Does encrypt-then-MAC prevent users from exploiting our padding oracle attack? If yes, explain why. If not, explain how to modify the attack so that it still works."
   ]
  },
  {
   "cell_type": "markdown",
   "metadata": {
    "colab_type": "text",
    "id": "aYy7Rl2BUZK2"
   },
   "source": [
    "**<span style = \"color: red\">(YOUR ANSWER HERE)</span>**"
   ]
  },
  {
   "cell_type": "markdown",
   "metadata": {
    "colab_type": "text",
    "id": "JmMhjITEf7u3"
   },
   "source": [
    "# Question 5: Mid-Semester Feedback\n",
    "Crazy as it sounds, we are almost halfway through the class! The staff would appreciate your honest feedback so we can see what you all think we are doing well, and what we can improve on.\n",
    "\n",
    "**Please fill out the anonymous mid-semester feedback form [here](https://forms.gle/ivrkFbUP2oKRePpD9). Upon completing it, enter the passphrase below**"
   ]
  },
  {
   "cell_type": "markdown",
   "metadata": {
    "colab_type": "text",
    "id": "I5BYAnbffr5L"
   },
   "source": [
    "**<span style = \"color: red\">(PASSPHRASE HERE)</span>**"
   ]
  },
  {
   "cell_type": "markdown",
   "metadata": {
    "colab_type": "text",
    "id": "VSbB2qqufr5M"
   },
   "source": [
    "# Question 6: Lab Feedback\n",
    "\n",
    "This is the first time 161 has offered this lab, and we would greatly appreciate your feedback!\n",
    "\n",
    "**Please fill out the anonymous lab feedback form [here](https://forms.gle/gpzcyzyuXq38un9w8). Upon completing it, enter the passphrase below**"
   ]
  },
  {
   "cell_type": "markdown",
   "metadata": {
    "colab_type": "text",
    "id": "LEJnlOeOfr5O"
   },
   "source": [
    "**<span style = \"color: red\">(PASSPHRASE HERE)</span>**"
   ]
  },
  {
   "cell_type": "markdown",
   "metadata": {},
   "source": [
    "# Question 7: SHA Length-Extension\n",
    "\n",
    "In lecture, Nick let slip that SHA-2, great as (we currently think) it is, is vulnerable to an attack called a *length-extension attack*. In this question, we'll walk you through how the SHA-2 algorithm actually works and show you how an attacker could use that knowledge to forge SHA-2 hashes based on (message, hash) pairs that they observe.\n",
    "\n",
    "## A Qualitative Explanation\n",
    "\n",
    "SHA-2 (and its older, broken siblings MD5 and SHA-1) follow an algorithm that looks roughly like this:\n",
    "\n",
    "```\n",
    "Let B1, B2, ..., Bn = M split in\n",
    "```"
   ]
  },
  {
   "cell_type": "code",
   "execution_count": null,
   "metadata": {},
   "outputs": [],
   "source": []
  }
 ],
 "metadata": {
  "anaconda-cloud": {},
  "colab": {
   "name": "padding_oracle_attack.ipynb",
   "provenance": []
  },
  "kernelspec": {
   "display_name": "Python 3",
   "language": "python",
   "name": "python3"
  },
  "language_info": {
   "codemirror_mode": {
    "name": "ipython",
    "version": 3
   },
   "file_extension": ".py",
   "mimetype": "text/x-python",
   "name": "python",
   "nbconvert_exporter": "python",
   "pygments_lexer": "ipython3",
   "version": "3.8.5"
  }
 },
 "nbformat": 4,
 "nbformat_minor": 1
}
